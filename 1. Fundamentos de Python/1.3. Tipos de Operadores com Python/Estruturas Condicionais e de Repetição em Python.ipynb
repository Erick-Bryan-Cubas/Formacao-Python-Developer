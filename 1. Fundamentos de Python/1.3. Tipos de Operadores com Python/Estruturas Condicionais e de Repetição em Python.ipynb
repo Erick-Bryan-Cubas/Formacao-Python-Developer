{
 "cells": [
  {
   "attachments": {},
   "cell_type": "markdown",
   "metadata": {},
   "source": [
    "# Estruturas Condicionais e de Repetição em Python\n",
    "\n",
    "## Indentação e blocos\n",
    "Indentar código é uma forma de manter o código fonte mais legível e manutenível. Mas em Python ela exerce um segundo papel, através da indentação o interpretador consegue determinar onde um bloco de comando inicia e onde ele termina. As linguagens de programação costumam utilizar caracteres ou palavras reservadas para terminar o início e fim do bloco. Existe uma convenção em Python, que define as boas práticas para escrita de código na linguagem. Nesse documento é indicado utilizar 4 espaços em branco por nível de indentação, ou seja, a cada novo bloco adicionamos 4 novos espaços em branco."
   ]
  },
  {
   "cell_type": "code",
   "execution_count": null,
   "metadata": {},
   "outputs": [],
   "source": [
    "def sacar(self, valor: float) -> None: # inicio do bloco do método\n",
    "\tif self.saldo >= valor: # inicio do bloco do if\n",
    "\t\tself.saldo -= valor\n",
    "\t# fim do bloco do if\n",
    "# fim do bloco do método"
   ]
  },
  {
   "cell_type": "code",
   "execution_count": 1,
   "metadata": {},
   "outputs": [
    {
     "name": "stdout",
     "output_type": "stream",
     "text": [
      "Valor sacado!\n",
      "Retire o seu dinheiro na boca do caixa\n",
      "Obrigado por ser nosso cliente, tenha um bom dia!\n"
     ]
    },
    {
     "ename": "",
     "evalue": "",
     "output_type": "error",
     "traceback": [
      "\u001b[1;31mO Kernel falhou ao executar o código na célula atual ou em uma célula anterior. Examine o código nas células para identificar uma possível causa da falha. Clique <a href=\"https://aka.ms/vscodeJupyterKernelCrash\">aqui</a> para obter mais informações. Consulte o <a href='command:jupyter.viewOutput'>log</a> do Jupyter para obter mais detalhes."
     ]
    }
   ],
   "source": [
    "def sacar(valor):\n",
    "    saldo = 500\n",
    "    \n",
    "    if saldo >= valor:\n",
    "        print(\"Valor sacado!\")\n",
    "        print(\"Retire o seu dinheiro na boca do caixa\")\n",
    "    \n",
    "    print(\"Obrigado por ser nosso cliente, tenha um bom dia!\")\n",
    "    \n",
    "def depositar(valor):\n",
    "    saldo = 500\n",
    "    saldo += valor\n",
    "    \n",
    "sacar(100)"
   ]
  },
  {
   "attachments": {},
   "cell_type": "markdown",
   "metadata": {},
   "source": [
    "### Estruturas condicionais\n",
    "A estrutura condicional permite o desvio de fluxo de controle, quando determinadas expressões lógicas são atendidas.\n",
    "\n",
    "If: Para criar uma estrutura condicional simples, composta por um único  desvio, podemos utilizar a palavra reservada if. O comando irá testar a expressão lógica, e em caso de retorno verdadeiro as ações presentes no bloco de código do if serão executadas. \n",
    "\n",
    "If/else: Para criar uma estrutura condicional com dois desvios, podemos utilizar as palavras reservadas _if_ e _else_. Como sabemos se a expressão lógica testada no _if_ for verdadeira, então o bloco de código do _if_ será executado. Caso contrário o bloco de código do _else_ será executado.\n",
    "\n",
    "If/elif/else: Em alguns cenários queremos mais de dois desvios, para isso podemos utilizar a palavra reservada _elif_. O _elif_ é composto por uma nova expressão lógica, que será testada e caso retorne verdadeiro o bloco de código do _elif_ será executado. Não existe um número máximo de _elifs_ que podemos utilizar, porém evite criar grandes estruturas condicionais, pois elas aumentam a complexidade do código. "
   ]
  },
  {
   "cell_type": "code",
   "execution_count": null,
   "metadata": {},
   "outputs": [],
   "source": [
    "MAIOR_IDADE = 18\n",
    "IDADE_ESPECIAL = 17\n",
    "\n",
    "idade = int(input('Informe sua idade: '))\n",
    "\n",
    "if idade >= MAIOR_IDADE:\n",
    "    print('Maior de idade, pode tirar a CNH.')\n",
    "    \n",
    "if idade < MAIOR_IDADE:\n",
    "    print('Ainda não pode tirar a CNH')\n",
    "    \n",
    "if idade >= MAIOR_IDADE:\n",
    "    print('Maior de idade, pode tirar a CNH. ')\n",
    "else:\n",
    "    print('Ainda não pode tirar a CNH. ')\n",
    "    \n",
    "    \n",
    "if idade >= MAIOR_IDADE: \n",
    "    print('Maior de idade, pode tirar a CNH.')\n",
    "elif idade == IDADE_ESPECIAL:\n",
    "    print('Pode fazer aulas teóricas, mas não pode fazer aulas práticas.')\n",
    "else:\n",
    "    print('Ainda não pode tirar a CNH. ')"
   ]
  },
  {
   "cell_type": "code",
   "execution_count": 6,
   "metadata": {},
   "outputs": [
    {
     "name": "stdout",
     "output_type": "stream",
     "text": [
      "Conta especial selecionada!\n"
     ]
    }
   ],
   "source": [
    "conta_normal = False\n",
    "conta_universitaria = False\n",
    "conta_especial = True\n",
    "\n",
    "saldo = 2000\n",
    "saque = 500\n",
    "cheque_especial = 450\n",
    "\n",
    "if conta_normal:\n",
    "    if saldo >= saque:\n",
    "        print(\"Saque realizado com sucesso!\")\n",
    "    elif saque <= (saldo + cheque_especial):\n",
    "        print('Saque realizado com uso do cheque especial!')\n",
    "    else: \n",
    "        print('Não foi posível realizar o saque, saldo insuficiente!')\n",
    "elif conta_universitaria:\n",
    "    if saldo >= saque:\n",
    "        print('Saque realizado com sucesso!')\n",
    "    else:\n",
    "        print('Saldo insuficiente!')     \n",
    "elif conta_especial:\n",
    "    print('Conta especial selecionada!')   \n",
    "else:\n",
    "    print('Sistema não reconheceu seu tipo de conta, entre em contato com o seu gerente.')"
   ]
  },
  {
   "cell_type": "code",
   "execution_count": 7,
   "metadata": {},
   "outputs": [
    {
     "name": "stdout",
     "output_type": "stream",
     "text": [
      "Sucesso ao realizar o saque!\n"
     ]
    }
   ],
   "source": [
    "saldo = 2000\n",
    "saque = 2500\n",
    "\n",
    "status = \"Sucesso\" if saldo >= saque else \"Falha\"\n",
    "print(f'{status} ao realizar o saque!')"
   ]
  }
 ],
 "metadata": {
  "kernelspec": {
   "display_name": "Python 3",
   "language": "python",
   "name": "python3"
  },
  "language_info": {
   "codemirror_mode": {
    "name": "ipython",
    "version": 3
   },
   "file_extension": ".py",
   "mimetype": "text/x-python",
   "name": "python",
   "nbconvert_exporter": "python",
   "pygments_lexer": "ipython3",
   "version": "3.11.4"
  },
  "orig_nbformat": 4
 },
 "nbformat": 4,
 "nbformat_minor": 2
}
