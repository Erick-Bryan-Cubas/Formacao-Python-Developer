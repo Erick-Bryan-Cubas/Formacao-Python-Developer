{
 "cells": [
  {
   "attachments": {},
   "cell_type": "markdown",
   "metadata": {},
   "source": [
    "# Estruturas Condicionais e de Repetição em Python\n",
    "\n",
    "## Indentação e blocos\n",
    "Indentar código é uma forma de manter o código fonte mais legível e manutenível. Mas em Python ela exerce um segundo papel, através da indentação o interpretador consegue determinar onde um bloco de comando inicia e onde ele termina. As linguagens de programação costumam utilizar caracteres ou palavras reservadas para terminar o início e fim do bloco. Existe uma convenção em Python, que define as boas práticas para escrita de código na linguagem. Nesse documento é indicado utilizar 4 espaços em branco por nível de indentação, ou seja, a cada novo bloco adicionamos 4 novos espaços em branco."
   ]
  },
  {
   "cell_type": "code",
   "execution_count": null,
   "metadata": {},
   "outputs": [],
   "source": [
    "def sacar(self, valor: float) -> None: # inicio do bloco do método\n",
    "\tif self.saldo >= valor: # inicio do bloco do if\n",
    "\t\tself.saldo -= valor\n",
    "\t# fim do bloco do if\n",
    "# fim do bloco do método"
   ]
  },
  {
   "cell_type": "code",
   "execution_count": 1,
   "metadata": {},
   "outputs": [
    {
     "name": "stdout",
     "output_type": "stream",
     "text": [
      "Valor sacado!\n",
      "Retire o seu dinheiro na boca do caixa\n",
      "Obrigado por ser nosso cliente, tenha um bom dia!\n"
     ]
    },
    {
     "ename": "",
     "evalue": "",
     "output_type": "error",
     "traceback": [
      "\u001b[1;31mO Kernel falhou ao executar o código na célula atual ou em uma célula anterior. Examine o código nas células para identificar uma possível causa da falha. Clique <a href=\"https://aka.ms/vscodeJupyterKernelCrash\">aqui</a> para obter mais informações. Consulte o <a href='command:jupyter.viewOutput'>log</a> do Jupyter para obter mais detalhes."
     ]
    }
   ],
   "source": [
    "def sacar(valor):\n",
    "    saldo = 500\n",
    "    \n",
    "    if saldo >= valor:\n",
    "        print(\"Valor sacado!\")\n",
    "        print(\"Retire o seu dinheiro na boca do caixa\")\n",
    "    \n",
    "    print(\"Obrigado por ser nosso cliente, tenha um bom dia!\")\n",
    "    \n",
    "def depositar(valor):\n",
    "    saldo = 500\n",
    "    saldo += valor\n",
    "    \n",
    "sacar(100)"
   ]
  },
  {
   "attachments": {},
   "cell_type": "markdown",
   "metadata": {},
   "source": [
    "### Estruturas condicionais\n",
    "A estrutura condicional permite o desvio de fluxo de controle, quando determinadas expressões lógicas são atendidas.\n",
    "\n",
    "#### if\n",
    "Para criar uma estrutura condicional simples, composta por um único  desvio, podemos utilizar a palavra reservada if. O comando irá testar a expressão lógica, e em caso de retorno verdadeiro as ações presentes no bloco de código do if serão executadas. \n",
    "\n",
    "#### If/else\n",
    "Para criar uma estrutura condicional com dois desvios, podemos utilizar as palavras reservadas _if_ e _else_. Como sabemos se a expressão lógica testada no _if_ for verdadeira, então o bloco de código do _if_ será executado. Caso contrário o bloco de código do _else_ será executado.\n",
    "\n",
    "#### If/elif/else\n",
    "Em alguns cenários queremos mais de dois desvios, para isso podemos utilizar a palavra reservada _elif_. O _elif_ é composto por uma nova expressão lógica, que será testada e caso retorne verdadeiro o bloco de código do _elif_ será executado. Não existe um número máximo de _elifs_ que podemos utilizar, porém evite criar grandes estruturas condicionais, pois elas aumentam a complexidade do código. "
   ]
  },
  {
   "cell_type": "code",
   "execution_count": null,
   "metadata": {},
   "outputs": [],
   "source": [
    "MAIOR_IDADE = 18\n",
    "IDADE_ESPECIAL = 17\n",
    "\n",
    "idade = int(input('Informe sua idade: '))\n",
    "\n",
    "if idade >= MAIOR_IDADE:\n",
    "    print('Maior de idade, pode tirar a CNH.')\n",
    "    \n",
    "if idade < MAIOR_IDADE:\n",
    "    print('Ainda não pode tirar a CNH')\n",
    "    \n",
    "if idade >= MAIOR_IDADE:\n",
    "    print('Maior de idade, pode tirar a CNH. ')\n",
    "else:\n",
    "    print('Ainda não pode tirar a CNH. ')\n",
    "    \n",
    "    \n",
    "if idade >= MAIOR_IDADE: \n",
    "    print('Maior de idade, pode tirar a CNH.')\n",
    "elif idade == IDADE_ESPECIAL:\n",
    "    print('Pode fazer aulas teóricas, mas não pode fazer aulas práticas.')\n",
    "else:\n",
    "    print('Ainda não pode tirar a CNH. ')"
   ]
  },
  {
   "cell_type": "code",
   "execution_count": 6,
   "metadata": {},
   "outputs": [
    {
     "name": "stdout",
     "output_type": "stream",
     "text": [
      "Conta especial selecionada!\n"
     ]
    }
   ],
   "source": [
    "conta_normal = False\n",
    "conta_universitaria = False\n",
    "conta_especial = True\n",
    "\n",
    "saldo = 2000\n",
    "saque = 500\n",
    "cheque_especial = 450\n",
    "\n",
    "if conta_normal:\n",
    "    if saldo >= saque:\n",
    "        print(\"Saque realizado com sucesso!\")\n",
    "    elif saque <= (saldo + cheque_especial):\n",
    "        print('Saque realizado com uso do cheque especial!')\n",
    "    else: \n",
    "        print('Não foi posível realizar o saque, saldo insuficiente!')\n",
    "elif conta_universitaria:\n",
    "    if saldo >= saque:\n",
    "        print('Saque realizado com sucesso!')\n",
    "    else:\n",
    "        print('Saldo insuficiente!')     \n",
    "elif conta_especial:\n",
    "    print('Conta especial selecionada!')   \n",
    "else:\n",
    "    print('Sistema não reconheceu seu tipo de conta, entre em contato com o seu gerente.')"
   ]
  },
  {
   "attachments": {},
   "cell_type": "markdown",
   "metadata": {},
   "source": [
    "#### if ternário\n",
    "O if ternário permite escrever uma condição em uma única linha. Ele é composto por três partes, a primeira parte é o retorno caso a expressão retorne verdadeiro, a segunda parte é a expressão lógica e a terceira parte é o retorno caso a expressão não seja atendida. "
   ]
  },
  {
   "cell_type": "code",
   "execution_count": 8,
   "metadata": {},
   "outputs": [
    {
     "name": "stdout",
     "output_type": "stream",
     "text": [
      "Falha ao realizar o saque!\n"
     ]
    }
   ],
   "source": [
    "saldo = 2000\n",
    "saque = 2500\n",
    "\n",
    "status = \"Sucesso\" if saldo >= saque else \"Falha\"\n",
    "print(f'{status} ao realizar o saque!')"
   ]
  },
  {
   "attachments": {},
   "cell_type": "markdown",
   "metadata": {},
   "source": [
    "## Atividade Complementar\n",
    "Exercícios de Python que você pode usar para praticar as estruturas condicionais `if`, `if else`, `elif`, `if` aninhado e `if` ternário:\n",
    "\n",
    "**Exercício 1: Estrutura básica do If**\n",
    "- Escreva um programa que solicita ao usuário um número e imprime \"O número é par\" se o número for par e \"O número é ímpar\" se o número for ímpar."
   ]
  },
  {
   "cell_type": "code",
   "execution_count": 11,
   "metadata": {},
   "outputs": [
    {
     "name": "stdout",
     "output_type": "stream",
     "text": [
      "O número digitado é ímpar\n"
     ]
    }
   ],
   "source": [
    "numero_digitado = int(input('Digite um número: '))\n",
    "\n",
    "if numero_digitado % 2 == 0:\n",
    "    print('O número digitado é par!')\n",
    "if numero_digitado % 2 != 0:\n",
    "    print('O número digitado é ímpar')"
   ]
  },
  {
   "attachments": {},
   "cell_type": "markdown",
   "metadata": {},
   "source": [
    "**Exercício 2: If else**\n",
    "- Peça ao usuário para digitar a idade deles. Se a idade for maior ou igual a 18, imprima \"Você é maior de idade\". Caso contrário, imprima \"Você é menor de idade\"."
   ]
  },
  {
   "cell_type": "code",
   "execution_count": 13,
   "metadata": {},
   "outputs": [
    {
     "name": "stdout",
     "output_type": "stream",
     "text": [
      "Você é maior de idade\n"
     ]
    }
   ],
   "source": [
    "idade_usuario = int(input('Qual a sua idade? '))\n",
    "\n",
    "if idade_usuario >= 18:\n",
    "    print('Você é maior de idade')\n",
    "else:\n",
    "    print('Você é menor de idade')"
   ]
  },
  {
   "attachments": {},
   "cell_type": "markdown",
   "metadata": {},
   "source": [
    "**Exercício 3: Elif**\n",
    "- Escreva um programa que solicita ao usuário para inserir uma nota de 0 a 100. Se a nota for inferior a 50, imprima \"Reprovado\". Se for entre 50 e 70, imprima \"Recuperação\". Se for maior ou igual a 70, imprima \"Aprovado\"."
   ]
  },
  {
   "cell_type": "code",
   "execution_count": 20,
   "metadata": {},
   "outputs": [
    {
     "name": "stdout",
     "output_type": "stream",
     "text": [
      "Aprovado!\n"
     ]
    }
   ],
   "source": [
    "nota_discente = float(input('Qual a sua nota, discente? '))\n",
    "\n",
    "if nota_discente < 50:\n",
    "    print('Reprovado!')\n",
    "elif nota_discente >= 50 and nota_discente <= 70:\n",
    "    print('Recuperação')\n",
    "else:\n",
    "    print('Aprovado!')"
   ]
  },
  {
   "attachments": {},
   "cell_type": "markdown",
   "metadata": {},
   "source": [
    "**Exercício 4: If aninhado**\n",
    "- Solicite ao usuário para inserir três números. Use condicionais aninhados para determinar e imprimir o maior número."
   ]
  },
  {
   "cell_type": "code",
   "execution_count": 24,
   "metadata": {},
   "outputs": [
    {
     "name": "stdout",
     "output_type": "stream",
     "text": [
      "O terceiro número é o maior!\n"
     ]
    }
   ],
   "source": [
    "a = int(input('Digite o primeiro número: '))\n",
    "b = int(input('Digite o segundo número: '))\n",
    "c = int(input('Digite o terceiro número: '))\n",
    "\n",
    "if a > b:\n",
    "    if a > c:\n",
    "        print('O primeiro número é o maior!')\n",
    "    else:\n",
    "        print('O terceiro número é o maior!')\n",
    "else:\n",
    "    if b > c:\n",
    "        print('O segundo número é o maior!')\n",
    "    else:\n",
    "        print('O terceiro número é o maior!')\n"
   ]
  },
  {
   "attachments": {},
   "cell_type": "markdown",
   "metadata": {},
   "source": [
    "**Exercício 5: If ternário**\n",
    "- Peça ao usuário para digitar um número. Use a estrutura condicional ternária para imprimir \"O número é positivo\" se o número for maior que zero, e \"O número é zero ou negativo\" caso contrário."
   ]
  },
  {
   "attachments": {},
   "cell_type": "markdown",
   "metadata": {},
   "source": [
    "## Estruturas de repetição\n",
    "São estruturas utilizadas para repetir um trecho de código em um determinado número de vezes. Esse número pode ser conhecido previamente ou determinado através de uma expressão lógica."
   ]
  },
  {
   "cell_type": "code",
   "execution_count": null,
   "metadata": {},
   "outputs": [],
   "source": [
    "# Receba um número do teclado e exiba os 2 números seguintes\n",
    "\n",
    "a = int(input('Informe um número inteiro: '))\n",
    "print(a)\n",
    "\n",
    "a += 1\n",
    "print(a)\n",
    "\n",
    "a += 1 \n",
    "print(a)"
   ]
  },
  {
   "attachments": {},
   "cell_type": "markdown",
   "metadata": {},
   "source": [
    "### Comando for\n",
    "O comando for é usado para percorrer um objeto iterável. Faz sentido usar for quando sabemos o número exato de vezes que nosso bloco de código deve ser executado, ou quando queremos percorrer um objeto iterável. "
   ]
  },
  {
   "cell_type": "code",
   "execution_count": 2,
   "metadata": {},
   "outputs": [
    {
     "name": "stdout",
     "output_type": "stream",
     "text": [
      "aia\n"
     ]
    }
   ],
   "source": [
    "texto = input('Informe um texto: ')\n",
    "VOGAIS =  'AEIOU'\n",
    "\n",
    "for letra in texto:\n",
    "    if letra.upper() in VOGAIS:\n",
    "        print(letra, end='')\n",
    "\n",
    "print() # adiciona uma quebra de linha"
   ]
  },
  {
   "cell_type": "code",
   "execution_count": null,
   "metadata": {},
   "outputs": [],
   "source": [
    "texto = input('Informe um texto: ')\n",
    "VOGAIS = 'AEIOU'\n",
    "\n",
    "for letra in texto:\n",
    "    if letra.upper() in VOGAIS:\n",
    "        print(letra, end='')\n",
    "else:\n",
    "    print() # adiciona uma quebra de linha"
   ]
  },
  {
   "cell_type": "markdown",
   "metadata": {},
   "source": [
    "### Função range\n",
    "Range é a função built-in do Python, ela é usada para produzir uma sequência de números inteiros a partir de um ínicio (inclusivo) para um fim (exclusivo). Se usarmos range(i, j) será produzido:\n",
    "\n",
    "i, i+1, i+2, i+3, ..., j-1\n",
    "\n",
    "Ela recebe 3 argumentos: _stop_ (obrigatíorio), _start_ (opcional)  e _step_ opcional."
   ]
  }
 ],
 "metadata": {
  "kernelspec": {
   "display_name": "Python 3",
   "language": "python",
   "name": "python3"
  },
  "language_info": {
   "codemirror_mode": {
    "name": "ipython",
    "version": 3
   },
   "file_extension": ".py",
   "mimetype": "text/x-python",
   "name": "python",
   "nbconvert_exporter": "python",
   "pygments_lexer": "ipython3",
   "version": "3.11.4"
  },
  "orig_nbformat": 4
 },
 "nbformat": 4,
 "nbformat_minor": 2
}
