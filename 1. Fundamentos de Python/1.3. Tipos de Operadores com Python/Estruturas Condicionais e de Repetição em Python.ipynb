{
 "cells": [
  {
   "attachments": {},
   "cell_type": "markdown",
   "metadata": {},
   "source": [
    "# Estruturas Condicionais e de Repetição em Python\n",
    "\n",
    "## Indentação e blocos\n",
    "Indentar código é uma forma de manter o código fonte mais legível e manutenível. Mas em Python ela exerce um segundo papel, através da indentação o interpretador consegue determinar onde um bloco de comando inicia e onde ele termina. As linguagens de programação costumam utilizar caracteres ou palavras reservadas para terminar o início e fim do bloco. Existe uma convenção em Python, que define as boas práticas para escrita de código na linguagem. Nesse documento é indicado utilizar 4 espaços em branco por nível de indentação, ou seja, a cada novo bloco adicionamos 4 novos espaços em branco."
   ]
  },
  {
   "cell_type": "code",
   "execution_count": null,
   "metadata": {},
   "outputs": [],
   "source": [
    "def sacar(self, valor: float) -> None: # inicio do bloco do método\n",
    "\tif self.saldo >= valor: # inicio do bloco do if\n",
    "\t\tself.saldo -= valor\n",
    "\t# fim do bloco do if\n",
    "# fim do bloco do método"
   ]
  },
  {
   "cell_type": "code",
   "execution_count": 1,
   "metadata": {},
   "outputs": [
    {
     "name": "stdout",
     "output_type": "stream",
     "text": [
      "Valor sacado!\n",
      "Retire o seu dinheiro na boca do caixa\n",
      "Obrigado por ser nosso cliente, tenha um bom dia!\n"
     ]
    }
   ],
   "source": [
    "def sacar(valor):\n",
    "    saldo = 500\n",
    "    \n",
    "    if saldo >= valor:\n",
    "        print(\"Valor sacado!\")\n",
    "        print(\"Retire o seu dinheiro na boca do caixa\")\n",
    "    \n",
    "    print(\"Obrigado por ser nosso cliente, tenha um bom dia!\")\n",
    "    \n",
    "def depositar(valor):\n",
    "    saldo = 500\n",
    "    saldo += valor\n",
    "    \n",
    "sacar(100)"
   ]
  }
 ],
 "metadata": {
  "kernelspec": {
   "display_name": "Python 3",
   "language": "python",
   "name": "python3"
  },
  "language_info": {
   "codemirror_mode": {
    "name": "ipython",
    "version": 3
   },
   "file_extension": ".py",
   "mimetype": "text/x-python",
   "name": "python",
   "nbconvert_exporter": "python",
   "pygments_lexer": "ipython3",
   "version": "3.11.4"
  },
  "orig_nbformat": 4
 },
 "nbformat": 4,
 "nbformat_minor": 2
}
