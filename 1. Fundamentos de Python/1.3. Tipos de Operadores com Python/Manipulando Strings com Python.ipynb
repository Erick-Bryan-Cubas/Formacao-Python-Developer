{
 "cells": [
  {
   "cell_type": "markdown",
   "metadata": {},
   "source": [
    "# Manipulando Strings com Python\n",
    "\n",
    "## Introdução\n",
    "A classe _String_ do Python é famosa por ser rica em métodos e possuir uma interface muito fácil de trabalhar. Em algumas linguagens manipular sequências de caracteres não é um trabalho trivial, porém, em Python esse trabalho é muito simples.\n",
    "\n",
    "### Conhecendo métodos úteis de classe string\n",
    "Conhecer métodos úteis para manipular objetos do tipo string, como interpolar valores de variáveis e entender como funciona o fatiamento. \n",
    "\n",
    " \n"
   ]
  },
  {
   "cell_type": "code",
   "execution_count": 10,
   "metadata": {},
   "outputs": [
    {
     "name": "stdout",
     "output_type": "stream",
     "text": [
      "PYTHON\n",
      "python\n",
      "Python\n",
      "pYtHon\n",
      "pYtHon \n",
      "    pYtHon\n",
      "##pYtHon##\n",
      "p.Y.t.H.o.n\n"
     ]
    }
   ],
   "source": [
    "curso = \"pYtHon\"\n",
    "espaco_branco = \"    pYtHon \"\n",
    "\n",
    "# Maiúscula\n",
    "print(curso.upper())\n",
    "\n",
    "# Minúscula\n",
    "print(curso.lower())\n",
    "\n",
    "# Título\n",
    "print(curso.title())\n",
    "\n",
    "# Eliminando espaços em branco\n",
    "print(espaco_branco.strip())\n",
    "\n",
    "# Eliminando espaços em branco no ínicio (left)\n",
    "print(espaco_branco.lstrip())\n",
    "\n",
    "# Eliminando espaços em branco no fim (right)\n",
    "print(espaco_branco.rstrip())\n",
    "\n",
    "# Centralização\n",
    "print(curso.center(10, \"#\"))\n",
    "\n",
    "# Junções\n",
    "print(\".\".join(curso))"
   ]
  }
 ],
 "metadata": {
  "kernelspec": {
   "display_name": "Python 3",
   "language": "python",
   "name": "python3"
  },
  "language_info": {
   "codemirror_mode": {
    "name": "ipython",
    "version": 3
   },
   "file_extension": ".py",
   "mimetype": "text/x-python",
   "name": "python",
   "nbconvert_exporter": "python",
   "pygments_lexer": "ipython3",
   "version": "3.11.3"
  },
  "orig_nbformat": 4
 },
 "nbformat": 4,
 "nbformat_minor": 2
}
