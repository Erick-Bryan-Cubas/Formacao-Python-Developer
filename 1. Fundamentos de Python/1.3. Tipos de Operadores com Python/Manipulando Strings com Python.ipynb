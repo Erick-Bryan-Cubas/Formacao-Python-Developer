{
 "cells": [
  {
   "cell_type": "markdown",
   "metadata": {},
   "source": [
    "# Manipulando Strings com Python\n",
    "\n",
    "## Introdução\n",
    "A classe _String_ do Python é famosa por ser rica em métodos e possuir uma interface muito fácil de trabalhar. Em algumas linguagens manipular sequências de caracteres não é um trabalho trivial, porém, em Python esse trabalho é muito simples.\n",
    "\n",
    "### Conhecendo métodos úteis de classe string\n",
    "Conhecer métodos úteis para manipular objetos do tipo string, como interpolar valores de variáveis e entender como funciona o fatiamento. \n",
    "\n",
    " \n"
   ]
  },
  {
   "cell_type": "code",
   "execution_count": 10,
   "metadata": {},
   "outputs": [
    {
     "name": "stdout",
     "output_type": "stream",
     "text": [
      "PYTHON\n",
      "python\n",
      "Python\n",
      "pYtHon\n",
      "pYtHon \n",
      "    pYtHon\n",
      "##pYtHon##\n",
      "p.Y.t.H.o.n\n"
     ]
    }
   ],
   "source": [
    "curso = \"pYtHon\"\n",
    "espaco_branco = \"    pYtHon \"\n",
    "\n",
    "# Maiúscula\n",
    "print(curso.upper())\n",
    "\n",
    "# Minúscula\n",
    "print(curso.lower())\n",
    "\n",
    "# Título\n",
    "print(curso.title())\n",
    "\n",
    "# Eliminando espaços em branco\n",
    "print(espaco_branco.strip())\n",
    "\n",
    "# Eliminando espaços em branco no ínicio (left)\n",
    "print(espaco_branco.lstrip())\n",
    "\n",
    "# Eliminando espaços em branco no fim (right)\n",
    "print(espaco_branco.rstrip())\n",
    "\n",
    "# Centralização\n",
    "print(curso.center(10, \"#\"))\n",
    "\n",
    "# Junções\n",
    "print(\".\".join(curso))"
   ]
  },
  {
   "cell_type": "markdown",
   "metadata": {},
   "source": [
    "### Interpolação de variáveis\n",
    "Há três formas de interporlar variáveis em python:\n",
    "1ª Forma: Usando %\n",
    "2ª Forma: Método format\n",
    "3ª Forma: f strings"
   ]
  },
  {
   "cell_type": "code",
   "execution_count": 1,
   "metadata": {},
   "outputs": [
    {
     "name": "stdout",
     "output_type": "stream",
     "text": [
      "Olá, me chamo Bryan. Eu tenho 23 anos de idade, trabalho como Analista de dados e estou matriculado no curso de Python.\n"
     ]
    }
   ],
   "source": [
    "# Old style\n",
    "nome = \"Bryan\"\n",
    "idade = 23\n",
    "profissao = \"Analista de dados\"\n",
    "linguagem = \"Python\"\n",
    "\n",
    "print(\"Olá, me chamo %s. Eu tenho %d anos de idade, trabalho como %s e estou matriculado no curso de %s.\" % (nome, idade, profissao, linguagem))"
   ]
  },
  {
   "cell_type": "code",
   "execution_count": 2,
   "metadata": {},
   "outputs": [
    {
     "name": "stdout",
     "output_type": "stream",
     "text": [
      "Olá, me chamo Bryan. Eu tenho 23 anos de idade, trabalho como Analista de dados e estou matriculado no curso de Python.\n",
      "Olá, me chamo Bryan. Eu tenho 23 anos de idade, trabalho como Analista de dados e estou matriculado no curso de Python.\n"
     ]
    }
   ],
   "source": [
    "# Método format\n",
    "nome = \"Bryan\"\n",
    "idade = 23\n",
    "profissao = \"Analista de dados\"\n",
    "linguagem = \"Python\"\n",
    "\n",
    "pessoa = {\"nome\":\"Bryan\", \"idade\":23, \"profissao\":\"Analista de dados\", \"linguagem\":\"Python\"}\n",
    "\n",
    "print(\"Olá, me chamo {}. Eu tenho {} anos de idade, trabalho como {} e estou matriculado no curso de {}.\".format(nome, idade, profissao, linguagem))\n",
    "\n",
    "print(\"Olá, me chamo {3}. Eu tenho {2} anos de idade, trabalho como {1} e estou matriculado no curso de {0}.\".format(linguagem,profissao,idade,nome))\n",
    "\n",
    "print(\"Olá, me chamo {nome}. Eu tenho {idade} anos de idade, trabalho como {profissao} e estou matriculado no curso de {linguagem}.\".format(nome=nome, idade=idade, profissao=profissao, linguagem=linguagem))\n",
    "\n",
    "print(\"Olá, me chamo {nome}. Eu tenho {idade} anos de idade, trabalho como {profissao} e estou matriculado no curso de {linguagem}.\".format(**pessoa))\n"
   ]
  }
 ],
 "metadata": {
  "kernelspec": {
   "display_name": "Python 3",
   "language": "python",
   "name": "python3"
  },
  "language_info": {
   "codemirror_mode": {
    "name": "ipython",
    "version": 3
   },
   "file_extension": ".py",
   "mimetype": "text/x-python",
   "name": "python",
   "nbconvert_exporter": "python",
   "pygments_lexer": "ipython3",
   "version": "3.11.5"
  },
  "orig_nbformat": 4
 },
 "nbformat": 4,
 "nbformat_minor": 2
}
