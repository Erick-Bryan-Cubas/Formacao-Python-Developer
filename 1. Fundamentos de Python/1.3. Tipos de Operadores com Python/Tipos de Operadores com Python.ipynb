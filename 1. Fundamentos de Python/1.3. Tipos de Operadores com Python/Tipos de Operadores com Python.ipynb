{
 "cells": [
  {
   "attachments": {},
   "cell_type": "markdown",
   "metadata": {},
   "source": [
    "# Tipos de Operadores com Python\n",
    "\n",
    "## Operadores aritméticos\n",
    "Os operadores aritméticos executam opeações matemáticas, como adição, subtração com operandos."
   ]
  },
  {
   "cell_type": "code",
   "execution_count": 4,
   "metadata": {},
   "outputs": [
    {
     "name": "stdout",
     "output_type": "stream",
     "text": [
      "2\n",
      "8\n",
      "12\n",
      "4.0\n",
      "6\n",
      "1\n",
      "8\n"
     ]
    }
   ],
   "source": [
    "# Adição\n",
    "print(1 + 1)\n",
    "\n",
    "# Subtração\n",
    "print(10 - 2)\n",
    "\n",
    "# Multiplicação\n",
    "print(4 * 3)\n",
    "\n",
    "# Divisão\n",
    "print(12 / 3)\n",
    "\n",
    "# Divisão inteira\n",
    "print(12 // 2)\n",
    "\n",
    "# Módulo (resto da divisão)\n",
    "print(10 % 3)\n",
    "\n",
    "# Exponenciação\n",
    "print(2 ** 3)"
   ]
  },
  {
   "attachments": {},
   "cell_type": "markdown",
   "metadata": {},
   "source": [
    "### Precedência dos operadores\n",
    "Na matemática há regras que ditam quais operadores devem ser executados primeiro. Pois ao analisar uma expressão, a depender da ordem das operações o valor pode ser diferente:\n",
    "x = 10 - 5 * 2\n",
    "x é igual a 10 ou 0?\n",
    "A definição indica a seguinte ordem como a correta:\n",
    "1. Parênteses\n",
    "2. Expoêntes\n",
    "3. Multiplicação e divisões (da esquerda para a direita)\n",
    "4. Somas e subtrações (da esquerda para a direita)"
   ]
  },
  {
   "cell_type": "code",
   "execution_count": 5,
   "metadata": {},
   "outputs": [
    {
     "name": "stdout",
     "output_type": "stream",
     "text": [
      "0\n",
      "10\n",
      "200\n",
      "10000\n",
      "20.0\n"
     ]
    }
   ],
   "source": [
    "print(10 - 5 * 2)\n",
    "\n",
    "print((10 - 5) * 2)\n",
    "\n",
    "print(10 ** 2 * 2)\n",
    "\n",
    "print(10 ** (2 * 2))\n",
    "\n",
    "print(10 / 2* 4)"
   ]
  },
  {
   "cell_type": "code",
   "execution_count": 11,
   "metadata": {},
   "outputs": [
    {
     "name": "stdout",
     "output_type": "stream",
     "text": [
      "30\n",
      "10\n",
      "2.0\n",
      "2\n",
      "200\n",
      "0\n",
      "10240000000000\n",
      "60\n",
      "51.0\n"
     ]
    }
   ],
   "source": [
    "produto_1 = 20\n",
    "produto_2 = 10\n",
    "\n",
    "print(produto_1 + produto_2)\n",
    "print(produto_1 - produto_2)\n",
    "print(produto_1 / produto_2)\n",
    "print(produto_1 // produto_2)\n",
    "print(produto_1 * produto_2)\n",
    "print(produto_1 % produto_2)\n",
    "print(produto_1 ** produto_2)\n",
    "\n",
    "x = (10 + 5) * 4\n",
    "y = (10 / 2) + ((25 * 2) - (2 ** 2))\n",
    "print(x)\n",
    "print(y)"
   ]
  },
  {
   "attachments": {},
   "cell_type": "markdown",
   "metadata": {},
   "source": [
    "## Operadores de comparação\n",
    "São operadores utilizados para comparar dois valores. "
   ]
  },
  {
   "cell_type": "code",
   "execution_count": 14,
   "metadata": {},
   "outputs": [
    {
     "name": "stdout",
     "output_type": "stream",
     "text": [
      "False\n",
      "True\n",
      "True\n",
      "True\n",
      "False\n",
      "False\n"
     ]
    }
   ],
   "source": [
    "\n",
    "saldo = 450\n",
    "saque = 200\n",
    "\n",
    "# Igualdade\n",
    "print(saldo == saque)\n",
    "\n",
    "# Diferença\n",
    "print(saldo != saque)\n",
    "\n",
    "# Maior que\n",
    "print(saldo > saque)\n",
    "\n",
    "# Maior ou igual\n",
    "print(saldo >= saque)\n",
    "\n",
    "# Menor que\n",
    "print(saldo < saque)\n",
    "\n",
    "# Menor ou igual\n",
    "print(saldo <= saque)\n"
   ]
  },
  {
   "cell_type": "code",
   "execution_count": 15,
   "metadata": {},
   "outputs": [
    {
     "name": "stdout",
     "output_type": "stream",
     "text": [
      "True\n",
      "False\n",
      "False\n",
      "True\n",
      "False\n",
      "True\n"
     ]
    }
   ],
   "source": [
    "saldo = 200\n",
    "saque = 200\n",
    "\n",
    "print(saldo == saque)\n",
    "print(saldo != saque)\n",
    "print(saldo > saque)\n",
    "print(saldo >= saque)\n",
    "print(saldo < saque)\n",
    "print(saldo <= saque)"
   ]
  },
  {
   "attachments": {},
   "cell_type": "markdown",
   "metadata": {},
   "source": [
    "## Operadores de atribuição\n",
    "São operadores utilizados para definir o valor inicial ou sobrescrever o valor de uma variável."
   ]
  },
  {
   "cell_type": "code",
   "execution_count": 22,
   "metadata": {},
   "outputs": [
    {
     "name": "stdout",
     "output_type": "stream",
     "text": [
      "500\n",
      "700\n",
      "400\n",
      "1000\n",
      "100.0\n",
      "100\n",
      "20\n",
      "6400\n"
     ]
    }
   ],
   "source": [
    "# Atribuição simples\n",
    "saldo = 500\n",
    "print(saldo)\n",
    "\n",
    "# Atribuição com adição\n",
    "saldo = 500\n",
    "saldo += 200\n",
    "print(saldo)\n",
    "\n",
    "# Atribuição com subtração\n",
    "saldo = 500\n",
    "saldo -= 100\n",
    "print(saldo)\n",
    "\n",
    "# Atribuição com multiplicação\n",
    "saldo = 500\n",
    "saldo *= 2\n",
    "print(saldo)\n",
    "\n",
    "# Atribuição com divisão\n",
    "saldo = 500\n",
    "saldo /= 5\n",
    "print(saldo)\n",
    "\n",
    "# Atribuição com divisão inteira\n",
    "saldo = 500\n",
    "saldo //= 5\n",
    "print(saldo)\n",
    "\n",
    "# Atribuição com módulo\n",
    "saldo = 500\n",
    "saldo %= 480\n",
    "print(saldo)\n",
    "\n",
    "# Atribuição com exponenciação\n",
    "saldo = 80\n",
    "saldo **=2\n",
    "print(saldo)"
   ]
  },
  {
   "attachments": {},
   "cell_type": "markdown",
   "metadata": {},
   "source": [
    "## Operadores lógicos\n",
    "São operadores utilizados em conjunto com os operadores de comparação, para montar uma expressão lógica. Quando um operador de comparação é utilizado, o resultado retornado é um booleano, dessa forma podemos combinar operadores de comparação com os operadores lógicos. Exemplo:\n",
    "op_comparacao + op_logico + op_comparacao...N..."
   ]
  },
  {
   "cell_type": "code",
   "execution_count": 23,
   "metadata": {},
   "outputs": [
    {
     "data": {
      "text/plain": [
       "False"
      ]
     },
     "execution_count": 23,
     "metadata": {},
     "output_type": "execute_result"
    }
   ],
   "source": [
    "# Operador E\n",
    "saldo = 1000\n",
    "saque = 200\n",
    "limite = 100\n",
    "\n",
    "saldo >= saque and saque <= limite"
   ]
  },
  {
   "cell_type": "code",
   "execution_count": 24,
   "metadata": {},
   "outputs": [
    {
     "data": {
      "text/plain": [
       "True"
      ]
     },
     "execution_count": 24,
     "metadata": {},
     "output_type": "execute_result"
    }
   ],
   "source": [
    "# Operador OU\n",
    "saldo = 1000\n",
    "saque = 200\n",
    "limite = 100\n",
    "\n",
    "saldo >= saque or saque <= limite"
   ]
  },
  {
   "cell_type": "code",
   "execution_count": 27,
   "metadata": {},
   "outputs": [
    {
     "data": {
      "text/plain": [
       "True"
      ]
     },
     "execution_count": 27,
     "metadata": {},
     "output_type": "execute_result"
    }
   ],
   "source": [
    "# Operador de negação (inverso da verdade)\n",
    "contatos_emergencia = [] ## Lista vazia é igual a False\n",
    "\n",
    "not 1000 > 1500\n",
    "not contatos_emergencia\n",
    "not \"saque 1500;\"\n",
    "not \"\" # Uma string/ sequência sem elementos é False"
   ]
  },
  {
   "cell_type": "code",
   "execution_count": 28,
   "metadata": {},
   "outputs": [
    {
     "data": {
      "text/plain": [
       "True"
      ]
     },
     "execution_count": 28,
     "metadata": {},
     "output_type": "execute_result"
    }
   ],
   "source": [
    "# Parênteses e a precedência de comparação\n",
    "saldo = 1000\n",
    "saque = 250\n",
    "limite = 200\n",
    "conta_especial = True\n",
    "\n",
    "saldo >= saque and saque <= limite or conta_especial and saldo >= saque\n",
    "(saldo >= saque and saque <= limite) or (conta_especial and saldo >= saque)"
   ]
  },
  {
   "attachments": {},
   "cell_type": "markdown",
   "metadata": {},
   "source": [
    "## Operadores de identidade\n",
    "São operadores utilizados para comparar se os dois objetos testados ocupam a mesma posição na memória."
   ]
  },
  {
   "cell_type": "code",
   "execution_count": 31,
   "metadata": {},
   "outputs": [
    {
     "data": {
      "text/plain": [
       "True"
      ]
     },
     "execution_count": 31,
     "metadata": {},
     "output_type": "execute_result"
    }
   ],
   "source": [
    "curso = \"Curso de Python\"\n",
    "nome_curso = curso\n",
    "saldo, limite = 200, 200\n",
    "\n",
    "curso is nome_curso # Ocupa o mesmo espaço de memória\n",
    "curso is not nome_curso #  Não ocupa o mesmo espaço de memória\n",
    "saldo is limite"
   ]
  },
  {
   "attachments": {},
   "cell_type": "markdown",
   "metadata": {},
   "source": [
    "## Operadores de associação\n",
    "São operadores utilizados para verificar se um objeto está presente em uma sequência. Os operadores de comparação são sensíveis aos caracteres."
   ]
  },
  {
   "cell_type": "code",
   "execution_count": 34,
   "metadata": {},
   "outputs": [
    {
     "data": {
      "text/plain": [
       "False"
      ]
     },
     "execution_count": 34,
     "metadata": {},
     "output_type": "execute_result"
    }
   ],
   "source": [
    "curso = \"Curso de Python\"\n",
    "frutas = [\"laranja\", \"uva\", \"limão\"]\n",
    "saques = [1500, 100]\n",
    "\n",
    "\"Python\" in curso # Está na sequência\n",
    "\"maça\" not in frutas # Não está na lista\n",
    "200 in saques # Não está na lista\n"
   ]
  }
 ],
 "metadata": {
  "kernelspec": {
   "display_name": "Python 3",
   "language": "python",
   "name": "python3"
  },
  "language_info": {
   "codemirror_mode": {
    "name": "ipython",
    "version": 3
   },
   "file_extension": ".py",
   "mimetype": "text/x-python",
   "name": "python",
   "nbconvert_exporter": "python",
   "pygments_lexer": "ipython3",
   "version": "3.11.4"
  },
  "orig_nbformat": 4
 },
 "nbformat": 4,
 "nbformat_minor": 2
}
