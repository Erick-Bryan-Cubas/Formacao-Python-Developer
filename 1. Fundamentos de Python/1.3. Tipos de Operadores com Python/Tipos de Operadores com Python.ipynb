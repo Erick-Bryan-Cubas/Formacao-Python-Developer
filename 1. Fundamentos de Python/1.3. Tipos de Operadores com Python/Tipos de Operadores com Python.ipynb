{
 "cells": [
  {
   "attachments": {},
   "cell_type": "markdown",
   "metadata": {},
   "source": [
    "# Tipos de Operadores com Python\n",
    "\n",
    "## Operadores aritméticos\n",
    "Os operadores aritméticos executam opeações matemáticas, como adição, subtração com operandos."
   ]
  },
  {
   "cell_type": "code",
   "execution_count": 4,
   "metadata": {},
   "outputs": [
    {
     "name": "stdout",
     "output_type": "stream",
     "text": [
      "2\n",
      "8\n",
      "12\n",
      "4.0\n",
      "6\n",
      "1\n",
      "8\n"
     ]
    }
   ],
   "source": [
    "# Adição\n",
    "print(1 + 1)\n",
    "\n",
    "# Subtração\n",
    "print(10 - 2)\n",
    "\n",
    "# Multiplicação\n",
    "print(4 * 3)\n",
    "\n",
    "# Divisão\n",
    "print(12 / 3)\n",
    "\n",
    "# Divisão inteira\n",
    "print(12 // 2)\n",
    "\n",
    "# Módulo (resto da divisão)\n",
    "print(10 % 3)\n",
    "\n",
    "# Exponenciação\n",
    "print(2 ** 3)"
   ]
  },
  {
   "attachments": {},
   "cell_type": "markdown",
   "metadata": {},
   "source": [
    "### Precedência dos operadores\n",
    "Na matemática há regras que ditam quais operadores devem ser executados primeiro. Pois ao analisar uma expressão, a depender da ordem das operações o valor pode ser diferente:\n",
    "x = 10 - 5 * 2\n",
    "x é igual a 10 ou 0?\n",
    "A definição indica a seguinte ordem como a correta:\n",
    "1. Parênteses\n",
    "2. Expoêntes\n",
    "3. Multiplicação e divisões (da esquerda para a direita)\n",
    "4. Somas e subtrações (da esquerda para a direita)"
   ]
  },
  {
   "cell_type": "code",
   "execution_count": 5,
   "metadata": {},
   "outputs": [
    {
     "name": "stdout",
     "output_type": "stream",
     "text": [
      "0\n",
      "10\n",
      "200\n",
      "10000\n",
      "20.0\n"
     ]
    }
   ],
   "source": [
    "print(10 - 5 * 2)\n",
    "\n",
    "print((10 - 5) * 2)\n",
    "\n",
    "print(10 ** 2 * 2)\n",
    "\n",
    "print(10 ** (2 * 2))\n",
    "\n",
    "print(10 / 2* 4)"
   ]
  },
  {
   "cell_type": "code",
   "execution_count": 7,
   "metadata": {},
   "outputs": [
    {
     "name": "stdout",
     "output_type": "stream",
     "text": [
      "30\n",
      "10\n",
      "2.0\n",
      "2\n",
      "200\n",
      "0\n",
      "10240000000000\n",
      "60\n"
     ]
    }
   ],
   "source": [
    "produto_1 = 20\n",
    "produto_2 = 10\n",
    "\n",
    "print(produto_1 + produto_2)\n",
    "print(produto_1 - produto_2)\n",
    "print(produto_1 / produto_2)\n",
    "print(produto_1 // produto_2)\n",
    "print(produto_1 * produto_2)\n",
    "print(produto_1 % produto_2)\n",
    "print(produto_1 ** produto_2)\n",
    "\n",
    "x = (10 + 5) * 4\n",
    "y = (10 / 2) + (25 * 2) - (2 ** 2)\n",
    "print(x)\n",
    "print(y)"
   ]
  }
 ],
 "metadata": {
  "kernelspec": {
   "display_name": "Python 3",
   "language": "python",
   "name": "python3"
  },
  "language_info": {
   "codemirror_mode": {
    "name": "ipython",
    "version": 3
   },
   "file_extension": ".py",
   "mimetype": "text/x-python",
   "name": "python",
   "nbconvert_exporter": "python",
   "pygments_lexer": "ipython3",
   "version": "3.11.4"
  },
  "orig_nbformat": 4
 },
 "nbformat": 4,
 "nbformat_minor": 2
}
